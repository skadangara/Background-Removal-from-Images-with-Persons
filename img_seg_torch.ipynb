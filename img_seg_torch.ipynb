{
 "cells": [
  {
   "cell_type": "code",
   "execution_count": 1,
   "metadata": {},
   "outputs": [],
   "source": [
    "#! pip install opencv-python"
   ]
  },
  {
   "cell_type": "code",
   "execution_count": 2,
   "metadata": {},
   "outputs": [],
   "source": [
    "#import torchvision"
   ]
  },
  {
   "cell_type": "code",
   "execution_count": 3,
   "metadata": {},
   "outputs": [],
   "source": [
    "#! pip install torchvision --user"
   ]
  },
  {
   "cell_type": "code",
   "execution_count": 4,
   "metadata": {},
   "outputs": [],
   "source": [
    "import urllib as urllib\n",
    "import os"
   ]
  },
  {
   "cell_type": "code",
   "execution_count": 5,
   "metadata": {},
   "outputs": [],
   "source": [
    "import cv2\n",
    "from urllib.request import urlretrieve\n",
    "import torch\n",
    "from PIL import Image\n",
    "from torchvision import transforms\n",
    "from matplotlib import pyplot as plt\n",
    "import numpy as np"
   ]
  },
  {
   "cell_type": "code",
   "execution_count": 6,
   "metadata": {},
   "outputs": [],
   "source": [
    "from flask import Flask, request\n",
    "from flask import send_file"
   ]
  },
  {
   "cell_type": "code",
   "execution_count": 7,
   "metadata": {},
   "outputs": [
    {
     "name": "stdout",
     "output_type": "stream",
     "text": [
      " * Serving Flask app '__main__'\n",
      " * Debug mode: off\n"
     ]
    },
    {
     "name": "stderr",
     "output_type": "stream",
     "text": [
      "WARNING: This is a development server. Do not use it in a production deployment. Use a production WSGI server instead.\n",
      " * Running on http://127.0.0.1:5000\n",
      "Press CTRL+C to quit\n",
      "127.0.0.1 - - [06/Jul/2023 10:04:47] \"POST / HTTP/1.1\" 405 -\n",
      "127.0.0.1 - - [06/Jul/2023 10:04:58] \"GET / HTTP/1.1\" 200 -\n"
     ]
    }
   ],
   "source": [
    "app = Flask(__name__)\n",
    "\n",
    "@app.route('/',methods=['GET'])\n",
    "def index():\n",
    "    home = \"This is a web service for background removal from images. If the image is in remote location \\\n",
    "             use: http://127.0.0.1:5000/remove_img_background , If the image is in local path \\\n",
    "             use: http://127.0.0.1:5000/rm_img_bg_local\"\n",
    "    return home\n",
    "\n",
    "def load_model():\n",
    "    model = torch.hub.load('pytorch/vision:v0.6.0', 'deeplabv3_resnet101', pretrained=True)\n",
    "    model.eval()\n",
    "    return model\n",
    "\n",
    "def make_transparent_foreground(pic, mask):\n",
    "    # split the image into channels\n",
    "    b, g, r = cv2.split(np.array(pic).astype('uint8'))\n",
    "    # add an alpha channel with and fill all with transparent pixels (max 255)\n",
    "    a = np.ones(mask.shape, dtype='uint8') * 255\n",
    "    # merge the alpha channel back\n",
    "    alpha_im = cv2.merge([b, g, r, a], 4)\n",
    "    # create a transparent background\n",
    "    bg = np.zeros(alpha_im.shape)\n",
    "    # setup the new mask\n",
    "    new_mask = np.stack([mask, mask, mask, mask], axis=2)\n",
    "    # copy only the foreground color pixels from the original image where mask is set\n",
    "    foreground = np.where(new_mask, alpha_im, bg).astype(np.uint8)\n",
    "\n",
    "    return foreground\n",
    "       \n",
    "def remove_background(model, input_file):\n",
    "    input_image = Image.open(input_file)\n",
    "    preprocess = transforms.Compose([\n",
    "      transforms.ToTensor(),\n",
    "      transforms.Normalize(mean=[0.485, 0.456, 0.406], std=[0.229, 0.224, 0.225]),\n",
    "    ])\n",
    "\n",
    "    input_tensor = preprocess(input_image)\n",
    "    input_batch = input_tensor.unsqueeze(0) # create a mini-batch as expected by the model\n",
    "\n",
    "    # move the input and model to GPU for speed if available : this block can be enabled if CUDA is available.\n",
    "#     if torch.cuda.is_available():\n",
    "#         input_batch = input_batch.to('cuda')\n",
    "#     model.to('cuda')\n",
    "\n",
    "    with torch.no_grad():\n",
    "        output = model(input_batch)['out'][0]\n",
    "    output_predictions = output.argmax(0)\n",
    "\n",
    "    # create a binary (black and white) mask of the profile foreground\n",
    "    mask = output_predictions.byte().cpu().numpy()\n",
    "    background = np.zeros(mask.shape)\n",
    "    bin_mask = np.where(mask, 255, background).astype(np.uint8)\n",
    "\n",
    "    foreground = make_transparent_foreground(input_image ,bin_mask)\n",
    "\n",
    "    return foreground, bin_mask\n",
    "\n",
    "## Function for background removal of images present in remote location through URL.       \n",
    "@app.route('/remove_img_background',methods=['POST'])\n",
    "def api_rmbg():\n",
    "    \n",
    "    # Download the image\n",
    "    data = request.get_json()\n",
    "    url = data['url']\n",
    "    try:\n",
    "        url_resp = urllib.request.urlopen(url)\n",
    "    except urllib.error.HTTPError as e:\n",
    "        #body = e.readlines()\n",
    "        return e.reason\n",
    "    except urllib.error.URLError as e:\n",
    "        return e.reason\n",
    "    # Check the response is success\n",
    "    \n",
    "    if(url_resp.code == 200):\n",
    "       # save image to local path\n",
    "        name = \"raw_image\"\n",
    "        fullname = str(name)+\".jpg\"\n",
    "        urllib.request.urlretrieve(url,fullname)\n",
    "    else:\n",
    "        return \"The image does not present in the location or permission denied\"    \n",
    "    \n",
    "    #call deeplab model\n",
    "    deeplab_model = load_model()\n",
    "    foreground, bin_mask = remove_background(deeplab_model, fullname)\n",
    "    \n",
    "    #Save the foreground image locally\n",
    "    converted_img = \"bg_removed_img.png\"\n",
    "    Image.fromarray(foreground).save(converted_img)\n",
    "    \n",
    "    # Return the new image with background removed\n",
    "    return send_file(converted_img, mimetype='image/png')\n",
    "\n",
    "## Function for background removal of images present in the local path.\n",
    "@app.route('/rm_img_bg_local',methods=['POST'])\n",
    "def api_rmbg_local():\n",
    "    \n",
    "    \n",
    "    data = request.get_json()\n",
    "    image_path = data['image_path']\n",
    "    \n",
    "    # Check image exists in local path\n",
    "    if not (os.path.exists(image_path)):        \n",
    "        return \"The image does not present in the location\"    \n",
    "    else:            \n",
    "    \n",
    "        #call deeplab model\n",
    "        deeplab_model = load_model()\n",
    "        foreground, bin_mask = remove_background(deeplab_model, image_path)\n",
    "\n",
    "        #Save the foreground image locally\n",
    "        converted_img = \"bg_removed_img.png\"\n",
    "        Image.fromarray(foreground).save(converted_img)\n",
    "\n",
    "        # Return the new image with background removed\n",
    "        return send_file(converted_img, mimetype='image/png')\n",
    "       \n",
    "@app.route('/remove_background_save',methods=['POST'])\n",
    "def api_rmbg_save():\n",
    "    \n",
    "    data = request.get_json()\n",
    "    url = data['url']\n",
    "    name = \"raw_image\"\n",
    "    fullname = str(name)+\".jpg\"\n",
    "    # save image to local path\n",
    "    urllib.request.urlretrieve(url,fullname)\n",
    "    \n",
    "    #call deeplab model\n",
    "    deeplab_model = load_model()\n",
    "    foreground, bin_mask = remove_background(deeplab_model, fullname)\n",
    "    # return the image after background removal, which will use for saving the image in remote location.\n",
    "    converted_img = \"bg_removed_img.png\"\n",
    "    Image.fromarray(foreground).save(converted_img)\n",
    "\n",
    "\n",
    "\n",
    "if __name__ == \"__main__\":\n",
    "    app.run()"
   ]
  },
  {
   "cell_type": "code",
   "execution_count": 8,
   "metadata": {},
   "outputs": [],
   "source": [
    "#! conda install pytorch==1.6.0 torchvision==0.7.0 cudatoolkit=10.1 -c pytorch"
   ]
  },
  {
   "cell_type": "code",
   "execution_count": null,
   "metadata": {},
   "outputs": [],
   "source": []
  }
 ],
 "metadata": {
  "kernelspec": {
   "display_name": "Python 3 (ipykernel)",
   "language": "python",
   "name": "python3"
  },
  "language_info": {
   "codemirror_mode": {
    "name": "ipython",
    "version": 3
   },
   "file_extension": ".py",
   "mimetype": "text/x-python",
   "name": "python",
   "nbconvert_exporter": "python",
   "pygments_lexer": "ipython3",
   "version": "3.10.9"
  }
 },
 "nbformat": 4,
 "nbformat_minor": 2
}
